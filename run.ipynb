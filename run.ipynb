{
 "cells": [
  {
   "cell_type": "code",
   "execution_count": 27,
   "id": "4098d45f",
   "metadata": {},
   "outputs": [
    {
     "name": "stdout",
     "output_type": "stream",
     "text": [
      "Condition:\n",
      "Ocular Rosacea\n"
     ]
    },
    {
     "data": {
      "image/png": "[encoded data removed]",
      "text/plain": [
       "<Figure size 432x288 with 1 Axes>"
      ]
     },
     "metadata": {
      "needs_background": "light"
     },
     "output_type": "display_data"
    }
   ],
   "source": [
    "import csv\n",
    "import matplotlib.pyplot as plt\n",
    "\n",
    "\n",
    "conditions = []; \n",
    "print('Condition:')\n",
    "\n",
    "condition_required = input();\n",
    "\n",
    "case_list = []; \n",
    "with open('test', mode='r') as csv_file:\n",
    "    reader = csv.reader(csv_file)\n",
    "    for row in reader:\n",
    "        conditions.append(row[0]);\n",
    "        if row[0] == condition_required:\n",
    "            case = {'medicine': row[1], 'preference': row[2]}\n",
    "            case_list.append(case)\n",
    "            \n",
    "            \n",
    "# sort list \n",
    "sorted_list = sorted(case_list, key = lambda i: i['preference'],reverse=True)\n",
    " \n",
    "preferences = []; medicine = []; \n",
    "for item in sorted_list:\n",
    "    preferences.append(float(item['preference']));\n",
    "    medicine.append(item['medicine']);\n",
    "\n",
    "fig = plt.figure()\n",
    "ax = fig.add_axes([0,0,1,1])\n",
    "ax.bar(medicine[0:6],preferences[0:6])\n",
    "plt.show()\n"
   ]
  },
  {
   "cell_type": "code",
   "execution_count": 4,
   "id": "1ee5a991",
   "metadata": {},
   "outputs": [],
   "source": [
    "def unique(list1):\n",
    " \n",
    "    # intilize a null list\n",
    "    unique_list = []\n",
    "     \n",
    "    # traverse for all elements\n",
    "    for x in list1:\n",
    "        # check if exists in unique_list or not\n",
    "        if x not in unique_list:\n",
    "            unique_list.append(x)\n",
    "    # print list\n",
    "    return unique_list"
   ]
  },
  {
   "cell_type": "code",
   "execution_count": 26,
   "id": "babcb83a",
   "metadata": {},
   "outputs": [
    {
     "name": "stdout",
     "output_type": "stream",
     "text": [
      "['', 'condition', 'ADHD', 'AIDS Related Wasting', 'Abdominal Distension', 'Abnormal Uterine Bleeding', 'Abortion', 'Acne', 'Actinic Keratosis', 'Acute Coronary Syndrome', 'Acute Lymphoblastic Leukemia', 'Acute Promyelocytic Leukemia', \"Addison's Disease\", 'Adrenocortical Insufficiency', 'Adult Human Growth Hormone Deficiency', 'Agitated State', 'Agitation', 'Alcohol Dependence', 'Alcohol Withdrawal', 'Allergic Reactions', 'Allergic Rhinitis', 'Allergic Urticaria', 'Allergies', 'Alopecia', 'Alpha-1 Proteinase Inhibitor Deficiency', \"Alzheimer's Disease\", 'Amebiasis', 'Amenorrhea', 'Anal Fissure and Fistula', 'Androgenetic Alopecia', 'Anemia', 'Anemia Associated with Chronic Renal Failure', 'Anemia, Sickle Cell', 'Anesthesia', 'Anesthetic Adjunct', 'Angina', 'Angina Pectoris Prophylaxis', 'Ankylosing Spondylitis', 'Anorexia', 'Anorexia/Feeding Problems', 'Anthrax', 'Antiphospholipid Syndrome', 'Anxiety', 'Anxiety and Stress', 'Aphthous Ulce', 'Aplastic Anemia', 'Arrhythmia', 'Ascariasis', 'Asperger Syndrome', 'Aspergillosis, Aspergilloma', 'Aspiration Pneumonia', 'Asthma', 'Asthma, Maintenance', 'Asthma, acute', 'Atherosclerosis', 'Atopic Dermatitis', 'Atrial Fibrillation', 'Atrial Flutte', 'Atrophic Urethritis', 'Atrophic Vaginitis', 'Auditory Processing Disorde', 'Autism', 'Autoimmune Hepatitis', 'B12 Nutritional Deficiency', 'Back Pain', 'Bacteremia', 'Bacterial Endocarditis Prevention', 'Bacterial Infection', 'Bacterial Skin Infection', 'Bacterial Vaginitis', \"Barrett's Esophagus\", 'Basal Cell Carcinoma', \"Behcet's Disease\", 'Benign Essential Trem', 'Benign Prostatic Hyperplasia', 'Benzodiazepine Withdrawal', 'Biliary Cirrhosis', 'Binge Eating Disorde', 'Bipolar Disorde', 'Birth Control', 'Bladder Infection', 'Bleeding Disorde', 'Body Dysmorphic Disorde', 'Body Imaging', 'Bone infection', 'Borderline Personality Disorde', 'Bowel Preparation', 'Brain Tum', 'Breakthrough Pain', 'Breast Cance', 'Breast Cancer, Adjuvant', 'Breast Cancer, Metastatic', 'Breast Cancer, Palliative', 'Breast Cancer, Prevention', 'Bronchiectasis', 'Bronchitis', 'Bronchospasm Prophylaxis', 'Bulimia', 'Bullous Pemphigoid', 'Burning Mouth Syndrome', 'Burns, External', 'Bursitis', 'CMV Prophylaxis', 'COPD', 'COPD, Acute', 'COPD, Maintenance', 'Cance', 'Candida Urinary Tract Infection', 'Candidemia', 'Carcinoid Tum', 'Cardiovascular Risk Reduction', 'Cataplexy', 'Cerebral Spasticity', 'Cervical Dystonia', 'Chlamydia Infection', 'Chronic Fatigue Syndrome', 'Chronic Idiopathic Constipation', 'Chronic Inflammatory Demyelinating Polyradiculoneuropathy', 'Chronic Lymphocytic Leukemia', 'Chronic Myelogenous Leukemia', 'Chronic Myofascial Pain', 'Chronic Pain', 'Chronic Pancreatitis', 'Chronic Spasticity', 'Clostridial Infection', 'Cluster Headaches', 'Cold Sores', 'Cold Symptoms', 'Colorectal Cance', 'Computed Tomography', 'Condylomata Acuminata', 'Conjunctivitis', 'Conjunctivitis, Allergic', 'Conjunctivitis, Bacterial', 'Constipation', 'Constipation, Acute', 'Constipation, Chronic', 'Constipation, Drug Induced', 'Corneal Refractive Surgery', 'Coronary Artery Disease', 'Costochondritis', 'Cough', 'Cough and Nasal Congestion', \"Crohn's Disease\", \"Crohn's Disease, Acute\", \"Crohn's Disease, Maintenance\", 'Croup', 'Cutaneous Candidiasis', 'Cutaneous T-cell Lymphoma', 'Cyclic Vomiting Syndrome', 'Cyclothymic Disorde', 'Cystic Fibrosis', 'Dandruff', 'Deep Neck Infection', 'Deep Vein Thrombosis', 'Deep Vein Thrombosis, First Event', 'Deep Vein Thrombosis, Prophylaxis', 'Deep Vein Thrombosis, Recurrent Event', 'Dental Abscess', 'Depression', 'Dermatitis', 'Dermatologic Lesion', 'Dermatological Disorders', 'Dermatomyositis', 'Dermatophytosis', 'Diabetes Insipidus', 'Diabetes, Type 1', 'Diabetes, Type 2', 'Diabetic Kidney Disease', 'Diabetic Macular Edema', 'Diabetic Peripheral Neuropathy', 'Diagnosis and Investigation', 'Diaper Rash', 'Diarrhea', 'Diarrhea, Acute', 'Diarrhea, Chronic', 'Dientamoeba fragilis', 'Dietary Fiber Supplementation', 'Dietary Supplementation', 'Diverticulitis', 'Dry Eye Disease', 'Dry Skin', 'Dumping Syndrome', 'Duodenal Ulce', 'Dysautonomia', 'Dyspareunia', 'Dystonia', 'Dysuria', 'Ear Wax Impaction', 'Eczema', 'Edema', 'Emergency Contraception', 'Endometrial Cance', 'Endometrial Hyperplasia', 'Endometrial Hyperplasia, Prophylaxis', 'Endometriosis', 'Endoscopy or Radiology Premedication', 'Enterocolitis', 'Eosinophilic Esophagitis', 'Epilepsy', 'Erectile Dysfunction', 'Erosive Esophagitis', 'Esophageal Candidiasis', 'Expectoration', 'Extrapyramidal Reaction', 'Eye Redness', 'Eye Redness/Itching', 'Eyelash Hypotrichosis', 'GERD', 'Gas', 'Gastric Ulcer Maintenance Treatment', 'Gastritis/Duodenitis', 'Gastroenteritis', 'Gastrointestinal Decontamination', 'Gastrointestinal Hemorrhage', 'Gastrointestinal Stromal Tum', 'Gastroparesis', 'Gaucher Disease', 'Gender Dysphoria', 'Generalized Anxiety Disorde', 'Giardiasis', 'Gingivitis', 'Glaucoma', 'Glaucoma, Open Angle', 'Glaucoma/Intraocular Hypertension', 'Glioblastoma Multi', 'Glioblastoma Multiforme', 'Gonadotropin Inhibition', 'Gonococcal Infection, Disseminated', 'Gonococcal Infection, Uncomplicated', 'Gout', 'Gout, Acute', 'Gout, Prophylaxis', 'Gouty Arthritis', 'Granuloma Annulare', 'HIV Infection', \"Hashimoto's disease\", 'Head Injury', 'Head Lice', 'Head and Neck Cance', 'Headache', 'Heart Attack', 'Heart Failure', 'Helicobacter Pylori Infection', 'Hemophilia B', 'Hemorrhoids', 'Hepatic Encephalopathy', 'Hepatic Tum', 'Hepatitis B', 'Hepatitis C', 'Hepatocellular Carcinoma', 'Herbal Supplementation', 'Hereditary Angioedema', 'Herpes Simplex', 'Herpes Simplex Dendritic Keratitis', 'Herpes Simplex, Mucocutaneous/Immunocompetent Host', 'Herpes Simplex, Mucocutaneous/Immunocompromised Host', 'Herpes Simplex, Suppression', 'Herpes Zoste', 'Herpes Zoster, Prophylaxis', 'Hiccups', 'Hidradenitis Suppurativa', 'High Blood Pressure', 'High Cholesterol', 'High Cholesterol, Familial Heterozygous', 'High Cholesterol, Familial Homozygous', 'Hirsutism', 'Hot Flashes', 'Human Papilloma Virus', 'Human Papillomavirus Prophylaxis', 'Hypercalcemia of Malignancy', 'Hyperekplexia', 'Hyperhidrosis', 'Hyperkalemia', 'Hyperlipoproteinemia', 'Hyperlipoproteinemia Type IIa, Elevated LDL', 'Hyperparathyroidism Secondary to Renal Impairment', 'Hyperphosphatemia', 'Hyperphosphatemia of Renal Failure', 'Hyperprolactinemia', 'Hypersomnia', 'Hypertensive Emergency', 'Hyperthyroidism', 'Hypertriglyceridemia', 'Hypoactive Sexual Desire Disorde', 'Hypocalcemia', 'Hypoestrogenism', 'Hypoglycemia', 'Hypogonadism, Male', 'Hypokalemia', 'Hypomagnesemia', 'Hypoparathyroidism', 'Hypotension', 'Hypothyroidism, After Thyroid Removal', 'ICU Agitation', 'Ichthyosis', 'Idiopathic Thrombocytopenic Purpura', 'Immunosuppression', 'Impetig', 'Indigestion', 'Infection Prophylaxis', 'Inflammatory Bowel Disease', 'Inflammatory Conditions', 'Influenza', 'Influenza Prophylaxis', 'Insomnia', 'Insomnia, Stimulant-Associated', 'Insulin Resistance Syndrome', 'Intermittent Claudication', 'Interstitial Cystitis', 'Intraabdominal Infection', 'Intraocular Hypertension', 'Iritis', 'Iron Deficiency Anemia', 'Irritable Bowel Syndrome', 'Ischemic Stroke', 'Ischemic Stroke, Prophylaxis', 'Joint Infection', 'Juvenile Idiopathic Arthritis', 'Juvenile Rheumatoid Arthritis', 'Keratitis', 'Keratoconjunctivitis Sicca', 'Keratosis', 'Kidney Infections', 'Labor Induction', 'Labor Pain', 'Lactation Augmentation', 'Lactose Intolerance', 'Left Ventricular Dysfunction', 'Lennox-Gastaut Syndrome', 'Lichen Planus', 'Lichen Sclerosus', 'Light Anesthesia', 'Light Sedation', 'Lipodystrophy', 'Liver Magnetic Resonance Imaging', 'Local Anesthesia', 'Lyme Disease', 'Lyme Disease, Arthritis', 'Lyme Disease, Neurologic', 'Lymphocytic Colitis', 'Lymphoma', 'Macular Degeneration', 'Macular Edema', 'Major Depressive Disorde', 'Malaria', 'Malaria Prevention', 'Malignant Glioma', 'Mania', 'Melanoma', 'Melanoma, Metastatic', 'Melasma', \"Meniere's Disease\", 'Meningitis', 'Meningococcal Meningitis Prophylaxis', 'Menopausal Disorders', 'Menorrhagia', 'Menstrual Disorders', 'Methicillin-Resistant Staphylococcus Aureus Infection', 'Migraine', 'Migraine Prevention', 'Mild Cognitive Impairment', 'Mitral Valve Prolapse', 'Motion Sickness', 'Mountain Sickness / Altitude Sickness', 'Mucositis', 'Multiple Myeloma', 'Multiple Sclerosis', 'Muscle Pain', 'Muscle Spasm', 'Myasthenia Gravis', 'Mycobacterium avium-intracellulare, Treatment', 'Myelodysplastic Syndrome', 'Myelofibrosis', 'Myeloproliferative Disorders', 'NSAID-Induced Gastric Ulce', 'NSAID-Induced Ulcer Prophylaxis', 'Narcolepsy', 'Nasal Carriage of Staphylococcus aureus', 'Nasal Congestion', 'Nasal Polyps', 'Nausea/Vomiting', 'Nausea/Vomiting of Pregnancy', 'Nausea/Vomiting, Chemotherapy Induced', 'Nausea/Vomiting, Postoperative', 'Nausea/Vomiting, Radiation Induced', 'Nephrotic Syndrome', 'Neuralgia', 'Neuropathic Pain', 'Neurosurgery', 'Neutropenia Associated with Chemotherapy', 'New Daily Persistent Headache', 'Niacin Deficiency', 'Night Terrors', 'Nightmares', 'Nocturnal Leg Cramps', \"Non-Hodgkin's Lymphoma\", 'Non-Small Cell Lung Cance', 'Nonoccupational Exposure', 'Not Listed / Othe', 'Obesity', 'Obsessive Compulsive Disorde', 'Obstructive Sleep Apnea/Hypopnea Syndrome', 'Occipital Neuralgia', 'Occupational Exposure', 'Ocular Rosacea', 'Oligospermia', 'Onychomycosis, Fingernail', 'Onychomycosis, Toenail', 'Oophorectomy', 'Ophthalmic Surgery', 'Opiate Adjunct', 'Opiate Dependence', 'Opiate Withdrawal', 'Opioid Overdose', 'Opioid-Induced Constipation', 'Oppositional Defiant Disorde', 'Oral Thrush', 'Organ Transplant, Rejection Prophylaxis', 'Osteoarthritis', 'Osteolytic Bone Lesions of Multiple Myeloma', 'Osteolytic Bone Metastases of Solid Tumors', 'Osteoporosis', 'Otitis Externa', 'Otitis Media', 'Ovarian Cance', 'Ovarian Cysts', 'Overactive Bladde', 'Ovulation Induction', \"Paget's Disease\", 'Pain', 'Pain/Feve', 'Pancreatic Cance', 'Pancreatic Exocrine Dysfunction', 'Panic Disorde', 'Paranoid Disorde', \"Parkinson's Disease\", 'Parkinsonism', 'Pathological Hypersecretory Conditions', 'Pediatric Growth Hormone Deficiency', 'Pelvic Inflammatory Disease', 'Pemphigus', 'Peptic Ulce', 'Percutaneous Coronary Intervention', 'Perimenopausal Symptoms', 'Period Pain', 'Periodic Limb Movement Disorde', 'Periodontitis', 'Perioral Dermatitis', 'Peripheral Neuropathy', 'Peripheral T-cell Lymphoma', 'Peritonitis', 'Persistent Depressive Disorde', \"Peyronie's Disease\", 'Pharyngitis', 'Photoaging of the Skin', 'Pinworm Infection (Enterobius vermicularis)', 'Pityriasis rubra pilaris', 'Plaque Psoriasis', 'Platelet Aggregation Inhibition', 'Pneumococcal Disease Prophylaxis', 'Pneumonia', 'Polycystic Ovary Syndrome', 'Polycythemia Vera', 'Post Traumatic Stress Disorde', 'Postherpetic Neuralgia', 'Postmenopausal Symptoms', 'Postoperative Ocular Inflammation', 'Postoperative Pain', 'Postpartum Depression', 'Postural Orthostatic Tachycardia Syndrome', 'Precocious Puberty', 'Premature Lab', 'Premature Ventricular Depolarizations', 'Premenstrual Dysphoric Disorde', 'Premenstrual Syndrome', 'Prevention of Atherothrombotic Events', 'Prevention of Bladder infection', 'Prevention of Cardiovascular Disease', 'Prevention of Dental Caries', 'Prevention of Hypokalemia', 'Prevention of Osteoporosis', 'Prevention of Thromboembolism in Atrial Fibrillation', 'Primary Hyperaldosteronism', 'Primary Immunodeficiency Syndrome', 'Primary Nocturnal Enuresis', 'Progesterone Insufficiency', 'Prostate Cance', 'Prostatitis', 'Prosthetic Heart Valves, Tissue Valves - Thrombosis Prophylaxis', 'Pruritus', 'Pseudobulbar Affect', 'Pseudotumor Cerebri', 'Psoriasis', 'Psoriatic Arthritis', 'Psychosis', 'Pudendal Neuralgia', 'Pulmonary Embolism', 'Pulmonary Embolism, First Event', 'Pulmonary Embolism, Recurrent Event', 'Pulmonary Hypertension', 'Pupillary Dilation', 'Radionuclide Myocardial Perfusion Study', \"Raynaud's Syndrome\", 'Reflex Sympathetic Dystrophy Syndrome', \"Reiter's Syndrome\", 'Rejection Prophylaxis', 'Renal Cell Carcinoma', 'Restless Legs Syndrome', 'Reversal of Nondepolarizing Muscle Relaxants', 'Reversal of Opioid Sedation', 'Rheumatoid Arthritis', 'Rhinitis', 'Rhinorrhea', 'Rosacea', 'SIADH', 'STD Prophylaxis', 'Salivary Gland Cance', 'Sarcoidosis', 'Scabies', 'Schilling Test', 'Schistosoma japonicum', 'Schizoaffective Disorde', 'Schizophrenia', 'Schnitzler Syndrome', 'Sciatica', 'Seasonal Affective Disorde', 'Seasonal Allergic Conjunctivitis', 'Seborrheic Dermatitis', 'Secondary Hyperparathyroidism', 'Sedation', 'Seizure Prevention', 'Seizures', 'Severe Mood Dysregulation', 'Sexual Dysfunction, SSRI Induced', 'Shift Work Sleep Disorde', 'Sinus Symptoms', 'Sinusitis', \"Sjogren's Syndrome\", 'Skin Cance', 'Skin Disinfection, Preoperative', 'Skin Rash', 'Skin and Structure Infection', 'Skin or Soft Tissue Infection', 'Small Bowel or Pancreatic Fistula', 'Smoking Cessation', 'Social Anxiety Disorde', 'Soft Tissue Sarcoma', 'Solid Tumors', 'Sore Throat', 'Spondyloarthritis', 'Spondylolisthesis', 'Status Epilepticus', \"Still's Disease\", 'Stomach Cance', 'Stomach Ulce', 'Strep Throat', 'Streptococcal Infection', 'Stress Ulcer Prophylaxis', 'Subarachnoid Hemorrhage', 'Submental Fullness', 'Sunburn', 'Supraventricular Tachycardia', 'Surgical Prophylaxis', 'Swine Flu', 'Syringomyelia', 'Systemic Lupus Erythematosus', 'Systemic Mastocytosis', 'TSH Suppression', 'Tardive Dyskinesia', 'Temporomandibular Joint Disorde', 'Tendonitis', 'Testicular Cance', 'Tetanus', 'Thrombocythemia', 'Thrombocytopenia', 'Thromboembolic Stroke Prophylaxis', 'Thyroid Cance', 'Thyrotoxicosis', 'Tinea Capitis', 'Tinea Corporis', 'Tinea Cruris', 'Tinea Pedis', 'Tinea Versicol', 'Tinnitus', 'Tonsillitis/Pharyngitis', 'Topical Disinfection', \"Tourette's Syndrome\", 'Transient Ischemic Attack', \"Traveler's Diarrhea\", 'Trichomoniasis', 'Trichotillomania', 'Trigeminal Neuralgia', 'Tuberculosis, Latent', 'Tuberculosis, Prophylaxis', \"Turner's Syndrome\", 'Ulcerative Colitis', 'Ulcerative Colitis, Active', 'Ulcerative Colitis, Maintenance', 'Ulcerative Proctitis', 'Underactive Thyroid', 'Undifferentiated Connective Tissue Disease', 'Upper Limb Spasticity', 'Upper Respiratory Tract Infection', 'Urinary Incontinence', 'Urinary Tract Infection', 'Urinary Tract Stones', 'Urticaria', 'Uterine Bleeding', 'Uterine Fibroids', 'Uveitis', 'Vaginal Yeast Infection', 'Varicella-Zoste', 'Ventricular Arrhythmia', 'Ventricular Tachycardia', 'Vertig', 'Vitamin B12 Deficiency', 'Vitamin D Deficiency', 'Vitamin/Mineral Supplementation and Deficiency', 'Vitamin/Mineral Supplementation during Pregnancy/Lactation', 'Vulvodynia', 'Warts', \"Wegener's Granulomatosis\", 'Weight Loss', 'Wolff-Parkinson-White Syndrome', 'Xerostomia', 'acial Wrinkles', 'actor IX Deficiency', 'amilial Cold Autoinflammatory Syndrome', 'amilial Mediterranean Feve', 'atigue', 'cal Segmental Glomerulosclerosis', 'emale Infertility', 'eve', 'ibrocystic Breast Disease', 'ibromyalgia', 'lic Acid Deficiency', 'm Pain Disorde', 'min)', 'moterol)', \"von Willebrand's Disease\", 'zen Shoulde']\n"
     ]
    }
   ],
   "source": [
    "conditions1 = unique(conditions);\n",
    "\n",
    "print(conditions1)"
   ]
  },
  {
   "cell_type": "code",
   "execution_count": 23,
   "id": "259f37dd",
   "metadata": {},
   "outputs": [],
   "source": [
    "\n",
    "     \n"
   ]
  },
  {
   "cell_type": "code",
   "execution_count": null,
   "id": "8e46c725",
   "metadata": {},
   "outputs": [],
   "source": []
  }
 ],
 "metadata": {
  "kernelspec": {
   "display_name": "Python 3",
   "language": "python",
   "name": "python3"
  },
  "language_info": {
   "codemirror_mode": {
    "name": "ipython",
    "version": 3
   },
   "file_extension": ".py",
   "mimetype": "text/x-python",
   "name": "python",
   "nbconvert_exporter": "python",
   "pygments_lexer": "ipython3",
   "version": "3.9.1"
  }
 },
 "nbformat": 4,
 "nbformat_minor": 5
}
